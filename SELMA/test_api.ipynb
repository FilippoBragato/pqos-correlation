{
 "cells": [
  {
   "cell_type": "code",
   "execution_count": 29,
   "metadata": {},
   "outputs": [
    {
     "name": "stdout",
     "output_type": "stream",
     "text": [
      "The autoreload extension is already loaded. To reload it, use:\n",
      "  %reload_ext autoreload\n"
     ]
    }
   ],
   "source": [
    "%load_ext autoreload\n",
    "%autoreload 2\n",
    "from api import Dataset, Time, Weather, Sensor, Town\n",
    "\n",
    "dataset = Dataset(\"dataset\")\n",
    "ids = dataset.get_ids(\"CV\", Town.T1, Weather.Clear, Time.Night, Sensor.LT)\n",
    "pcd_top = dataset.open_sample(\"CV\", Town.T1, Weather.Clear, Time.Night, Sensor.LT, ids[0]) \n",
    "pcd_front_left = dataset.open_sample(\"CV\", Town.T1, Weather.Clear, Time.Night, Sensor.LFL, ids[0]) \n",
    "pcd_front_rigth = dataset.open_sample(\"CV\", Town.T1, Weather.Clear, Time.Night, Sensor.LFR, ids[0]) \n"
   ]
  },
  {
   "cell_type": "code",
   "execution_count": 38,
   "metadata": {},
   "outputs": [],
   "source": [
    "dataset.visualize_sample(pcd_top)\n",
    "dataset.visualize_sample(pcd_front_rigth)\n",
    "dataset.visualize_sample(pcd_front_left)"
   ]
  }
 ],
 "metadata": {
  "kernelspec": {
   "display_name": "pqos-correlation",
   "language": "python",
   "name": "python3"
  },
  "language_info": {
   "codemirror_mode": {
    "name": "ipython",
    "version": 3
   },
   "file_extension": ".py",
   "mimetype": "text/x-python",
   "name": "python",
   "nbconvert_exporter": "python",
   "pygments_lexer": "ipython3",
   "version": "3.8.16"
  },
  "orig_nbformat": 4,
  "vscode": {
   "interpreter": {
    "hash": "a826e147f73fc962cde984387979e61bf33da7c7b1b1e94c23dc482c8980bc07"
   }
  }
 },
 "nbformat": 4,
 "nbformat_minor": 2
}
