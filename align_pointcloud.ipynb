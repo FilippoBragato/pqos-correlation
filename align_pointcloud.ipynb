{
 "cells": [
  {
   "cell_type": "code",
   "execution_count": 44,
   "metadata": {},
   "outputs": [
    {
     "name": "stdout",
     "output_type": "stream",
     "text": [
      "The autoreload extension is already loaded. To reload it, use:\n",
      "  %reload_ext autoreload\n"
     ]
    }
   ],
   "source": [
    "%load_ext autoreload\n",
    "%autoreload 2\n",
    "from corr_study.datasetApi import *\n",
    "import h5py\n",
    "import open3d as o3d\n",
    "from tqdm import trange"
   ]
  },
  {
   "cell_type": "code",
   "execution_count": 22,
   "metadata": {},
   "outputs": [],
   "source": [
    "hf.close()"
   ]
  },
  {
   "cell_type": "code",
   "execution_count": 76,
   "metadata": {},
   "outputs": [
    {
     "name": "stdout",
     "output_type": "stream",
     "text": [
      "t3low\n",
      "Sensor.LT\n"
     ]
    },
    {
     "name": "stderr",
     "output_type": "stream",
     "text": [
      "100%|██████████| 3254/3254 [03:32<00:00, 15.31it/s]\n"
     ]
    },
    {
     "name": "stdout",
     "output_type": "stream",
     "text": [
      "Sensor.LFL\n"
     ]
    },
    {
     "name": "stderr",
     "output_type": "stream",
     "text": [
      "100%|██████████| 3254/3254 [03:48<00:00, 14.27it/s]\n"
     ]
    },
    {
     "name": "stdout",
     "output_type": "stream",
     "text": [
      "Sensor.LFR\n"
     ]
    },
    {
     "name": "stderr",
     "output_type": "stream",
     "text": [
      "100%|██████████| 3254/3254 [04:09<00:00, 13.04it/s]\n"
     ]
    },
    {
     "name": "stdout",
     "output_type": "stream",
     "text": [
      "t3medium\n",
      "Sensor.LT\n"
     ]
    },
    {
     "name": "stderr",
     "output_type": "stream",
     "text": [
      "100%|██████████| 3254/3254 [03:44<00:00, 14.51it/s]\n"
     ]
    },
    {
     "name": "stdout",
     "output_type": "stream",
     "text": [
      "Sensor.LFL\n"
     ]
    },
    {
     "name": "stderr",
     "output_type": "stream",
     "text": [
      "100%|██████████| 3254/3254 [03:51<00:00, 14.04it/s]\n"
     ]
    },
    {
     "name": "stdout",
     "output_type": "stream",
     "text": [
      "Sensor.LFR\n"
     ]
    },
    {
     "name": "stderr",
     "output_type": "stream",
     "text": [
      "100%|██████████| 3254/3254 [03:50<00:00, 14.13it/s]\n"
     ]
    },
    {
     "name": "stdout",
     "output_type": "stream",
     "text": [
      "t3high\n",
      "Sensor.LT\n"
     ]
    },
    {
     "name": "stderr",
     "output_type": "stream",
     "text": [
      "100%|██████████| 5372/5372 [06:25<00:00, 13.93it/s]\n"
     ]
    },
    {
     "name": "stdout",
     "output_type": "stream",
     "text": [
      "Sensor.LFL\n"
     ]
    },
    {
     "name": "stderr",
     "output_type": "stream",
     "text": [
      "100%|██████████| 5372/5372 [06:31<00:00, 13.72it/s]\n"
     ]
    },
    {
     "name": "stdout",
     "output_type": "stream",
     "text": [
      "Sensor.LFR\n"
     ]
    },
    {
     "name": "stderr",
     "output_type": "stream",
     "text": [
      "100%|██████████| 5372/5372 [06:50<00:00, 13.10it/s]\n"
     ]
    },
    {
     "name": "stdout",
     "output_type": "stream",
     "text": [
      "Town03LowNEW\n",
      "Sensor.LT\n"
     ]
    },
    {
     "name": "stderr",
     "output_type": "stream",
     "text": [
      "100%|██████████| 2894/2894 [03:47<00:00, 12.72it/s]\n"
     ]
    },
    {
     "name": "stdout",
     "output_type": "stream",
     "text": [
      "Sensor.LFL\n"
     ]
    },
    {
     "name": "stderr",
     "output_type": "stream",
     "text": [
      "100%|██████████| 2894/2894 [03:41<00:00, 13.08it/s]\n"
     ]
    },
    {
     "name": "stdout",
     "output_type": "stream",
     "text": [
      "Sensor.LFR\n"
     ]
    },
    {
     "name": "stderr",
     "output_type": "stream",
     "text": [
      "100%|██████████| 2894/2894 [03:42<00:00, 13.00it/s]\n"
     ]
    },
    {
     "name": "stdout",
     "output_type": "stream",
     "text": [
      "Town03MediumNEW\n",
      "Sensor.LT\n"
     ]
    },
    {
     "name": "stderr",
     "output_type": "stream",
     "text": [
      "100%|██████████| 3486/3486 [04:20<00:00, 13.41it/s]\n"
     ]
    },
    {
     "name": "stdout",
     "output_type": "stream",
     "text": [
      "Sensor.LFL\n"
     ]
    },
    {
     "name": "stderr",
     "output_type": "stream",
     "text": [
      "100%|██████████| 3486/3486 [04:11<00:00, 13.86it/s]\n"
     ]
    },
    {
     "name": "stdout",
     "output_type": "stream",
     "text": [
      "Sensor.LFR\n"
     ]
    },
    {
     "name": "stderr",
     "output_type": "stream",
     "text": [
      "100%|██████████| 3486/3486 [04:09<00:00, 13.99it/s]\n"
     ]
    },
    {
     "name": "stdout",
     "output_type": "stream",
     "text": [
      "Town03HighNEW\n",
      "Sensor.LT\n"
     ]
    },
    {
     "name": "stderr",
     "output_type": "stream",
     "text": [
      "100%|██████████| 5400/5400 [08:07<00:00, 11.08it/s]\n"
     ]
    },
    {
     "name": "stdout",
     "output_type": "stream",
     "text": [
      "Sensor.LFL\n"
     ]
    },
    {
     "name": "stderr",
     "output_type": "stream",
     "text": [
      "100%|██████████| 5400/5400 [07:17<00:00, 12.35it/s]\n"
     ]
    },
    {
     "name": "stdout",
     "output_type": "stream",
     "text": [
      "Sensor.LFR\n"
     ]
    },
    {
     "name": "stderr",
     "output_type": "stream",
     "text": [
      "100%|██████████| 5400/5400 [08:10<00:00, 11.00it/s]\n"
     ]
    }
   ],
   "source": [
    "w = Weather.Clear\n",
    "t = Time.Sunset\n",
    "\n",
    "names = [\"t3low\", \"t3medium\", \"t3high\", \"Town03LowNEW\", \"Town03MediumNEW\", \"Town03HighNEW\"]\n",
    "sensors = [Sensor.LT, Sensor.LFL, Sensor.LFR]\n",
    "\n",
    "dataset = Dataset(\"corr_study/dataset/\")\n",
    "\n",
    "for n in names:\n",
    "    print(n)\n",
    "    for s in sensors:\n",
    "        print(s)\n",
    "        path_to_bbox = dataset.get_path_bbox(n, w, t)\n",
    "        with h5py.File(path_to_bbox,'r') as f:\n",
    "            root_grp = f.get(\"BBOX\")\n",
    "            ids = list(root_grp.keys())\n",
    "            ids.sort()\n",
    "            for id_actor in ids:\n",
    "                agent = root_grp.get(id_actor)\n",
    "                if \"vehicle\" in agent.attrs['type']:\n",
    "                    ego = root_grp.get(id_actor)\n",
    "                    ego_id = int(id_actor)\n",
    "                    break\n",
    "            loc = np.array(ego.get('location'))\n",
    "            rot = np.array(ego.get('rotation'))\n",
    "        ego_positions = {\"loc\":loc, \"rot\":rot}\n",
    "\n",
    "\n",
    "        folder = dataset._get_path_h5_folder(n, w, t, s)\n",
    "        hf = h5py.File(folder + \"/fully_oriented.hdf5\", \"w\")\n",
    "        main_group = hf.create_group(\"data\")\n",
    "        len_dataset = dataset.get_measurement_series_length_TLC(n, w, t, s)\n",
    "        for i in trange(len_dataset):\n",
    "            spc = dataset.open_measurement_sample_TLC(n, w, t, s, i+1)\n",
    "            pc = o3d.geometry.PointCloud()\n",
    "            pc.points = o3d.utility.Vector3dVector(spc.data)\n",
    "                \n",
    "\n",
    "            T_sens = s.get_homogeneous_matrix()\n",
    "            T_rot = np.eye(4)\n",
    "            T_rot[:3, :3] = pc.get_rotation_matrix_from_xyz((np.radians(-ego_positions[\"rot\"][i,2]),\n",
    "                                                            np.radians(-ego_positions[\"rot\"][i,0]), \n",
    "                                                            np.radians(-ego_positions[\"rot\"][i,1])))\n",
    "            T_loc = np.eye(4)\n",
    "            T_loc[0:3,3] = [-ego_positions[\"loc\"][i,1],\n",
    "                            -ego_positions[\"loc\"][i,0],\n",
    "                            ego_positions[\"loc\"][i,2]]\n",
    "            T = np.dot(T_loc, T_rot)\n",
    "            T = np.dot(T, T_sens)\n",
    "            pc.transform(T)\n",
    "            time_group_key = str(i+1).zfill(5)\n",
    "            data = np.concatenate((np.asarray(pc.points), spc.ground_truth[:, [1, 0]]), axis=1)\n",
    "            main_group.create_dataset(time_group_key, data=data)\n",
    "        hf.close()\n"
   ]
  },
  {
   "cell_type": "code",
   "execution_count": 84,
   "metadata": {},
   "outputs": [
    {
     "name": "stdout",
     "output_type": "stream",
     "text": [
      "5400\n"
     ]
    }
   ],
   "source": [
    "import seaborn as sns\n",
    "w = Weather.Clear\n",
    "t = Time.Sunset\n",
    "s = Sensor.LT\n",
    "name = \"Town03HighNEW\"\n",
    "base = dataset._get_path_h5_folder(name, w, t, s) + \"/preprocessed/\"\n",
    "llen = dataset.get_measurement_series_length_TLC(name, w, t, s)\n",
    "pcds = []\n",
    "print(llen)\n",
    "p = sns.color_palette(\"rocket\", n_colors=len(range(1, llen, 50)))\n",
    "j=0\n",
    "for i in range(1, llen, 50):\n",
    "    pcd = o3d.io.read_point_cloud(base + str(i+1).zfill(5) + \".pcd\")\n",
    "    pcd.paint_uniform_color(p[j])\n",
    "    j = j+1\n",
    "    pcds.append(pcd)\n",
    "# o3d.visualization.draw_geometries(pcds)\n"
   ]
  },
  {
   "cell_type": "code",
   "execution_count": 78,
   "metadata": {},
   "outputs": [
    {
     "name": "stderr",
     "output_type": "stream",
     "text": [
      "100%|██████████| 3254/3254 [00:52<00:00, 61.50it/s] \n",
      "100%|██████████| 3254/3254 [00:56<00:00, 57.63it/s]\n",
      "100%|██████████| 3254/3254 [00:55<00:00, 58.68it/s]\n",
      "100%|██████████| 3254/3254 [00:56<00:00, 57.12it/s]\n",
      "100%|██████████| 3254/3254 [00:58<00:00, 55.37it/s]\n",
      "100%|██████████| 3254/3254 [01:08<00:00, 47.28it/s]\n",
      "100%|██████████| 5372/5372 [01:38<00:00, 54.47it/s]\n",
      "100%|██████████| 5372/5372 [01:50<00:00, 48.82it/s]\n",
      "100%|██████████| 5372/5372 [01:42<00:00, 52.56it/s]\n",
      "100%|██████████| 2894/2894 [00:50<00:00, 57.72it/s]\n",
      "100%|██████████| 2894/2894 [01:02<00:00, 46.54it/s]\n",
      "100%|██████████| 2894/2894 [00:58<00:00, 49.22it/s]\n",
      "100%|██████████| 3486/3486 [01:03<00:00, 54.53it/s]\n",
      "100%|██████████| 3486/3486 [01:05<00:00, 52.96it/s]\n",
      "100%|██████████| 3486/3486 [01:11<00:00, 48.49it/s]\n",
      "100%|██████████| 5400/5400 [01:52<00:00, 47.89it/s]\n",
      "100%|██████████| 5400/5400 [01:55<00:00, 46.90it/s]\n",
      "100%|██████████| 5400/5400 [01:50<00:00, 48.82it/s]\n"
     ]
    }
   ],
   "source": [
    "import os\n",
    "w = Weather.Clear\n",
    "t = Time.Sunset\n",
    "\n",
    "for name in [\"t3low\", \"t3medium\", \"t3high\", \"Town03LowNEW\", \"Town03MediumNEW\", \"Town03HighNEW\"]:\n",
    "    for s in [Sensor.LT, Sensor.LFL, Sensor.LFR]:\n",
    "        path_to_bbox = dataset.get_path_bbox(name, w, t)\n",
    "        with h5py.File(path_to_bbox,'r') as f:\n",
    "            root_grp = f.get(\"BBOX\")\n",
    "            ids = list(root_grp.keys())\n",
    "            ids.sort()\n",
    "            for id_actor in ids:\n",
    "                agent = root_grp.get(id_actor)\n",
    "                if \"vehicle\" in agent.attrs['type']:\n",
    "                    ego = root_grp.get(id_actor)\n",
    "                    ego_id = int(id_actor)\n",
    "                    break\n",
    "\n",
    "        len_dataset = dataset.get_measurement_series_length_TLC(name, w, t, s)\n",
    "        base = dataset._get_path_h5_folder(name, w, t, s) + \"/preprocessed/\"\n",
    "        os.mkdir(base)\n",
    "        for i in trange(len_dataset):\n",
    "            pcs = dataset.open_measurement_sample_TLC_fully_oriented(name, w, t, s, i+1)\n",
    "            pcs.data = pcs.data[pcs.ground_truth[:,1] != ego_id]\n",
    "            pcd = o3d.geometry.PointCloud()\n",
    "            pcd.points = o3d.utility.Vector3dVector(pcs.data)\n",
    "            o3d.io.write_point_cloud(base + str(i+1).zfill(5) + \".pcd\", pcd)"
   ]
  }
 ],
 "metadata": {
  "kernelspec": {
   "display_name": "pqos-correlation",
   "language": "python",
   "name": "python3"
  },
  "language_info": {
   "codemirror_mode": {
    "name": "ipython",
    "version": 3
   },
   "file_extension": ".py",
   "mimetype": "text/x-python",
   "name": "python",
   "nbconvert_exporter": "python",
   "pygments_lexer": "ipython3",
   "version": "3.10.9"
  },
  "orig_nbformat": 4,
  "vscode": {
   "interpreter": {
    "hash": "b336dbe675793355d8b437b0f4335870bd0a11a0c99e61765969da8a9df72dad"
   }
  }
 },
 "nbformat": 4,
 "nbformat_minor": 2
}
